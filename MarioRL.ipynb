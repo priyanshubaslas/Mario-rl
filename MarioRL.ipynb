{
  "cells": [
    {
      "cell_type": "code",
      "execution_count": 2,
      "metadata": {
        "id": "yuvdzbSz6vXA"
      },
      "outputs": [],
      "source": [
        "%matplotlib inline"
      ]
    },
    {
      "cell_type": "code",
      "execution_count": 3,
      "metadata": {
        "colab": {
          "base_uri": "https://localhost:8080/"
        },
        "id": "gxv0RoPS7vFU",
        "outputId": "9d9e1e7f-c91e-4503-f407-f87e9c1b121c"
      },
      "outputs": [
        {
          "name": "stdout",
          "output_type": "stream",
          "text": [
            "Looking in indexes: https://pypi.org/simple, https://us-python.pkg.dev/colab-wheels/public/simple/\n",
            "Requirement already satisfied: gym-super-mario-bros==7.3.0 in /usr/local/lib/python3.7/dist-packages (7.3.0)\n",
            "Requirement already satisfied: nes-py>=8.0.0 in /usr/local/lib/python3.7/dist-packages (from gym-super-mario-bros==7.3.0) (8.2.1)\n",
            "Requirement already satisfied: pyglet<=1.5.21,>=1.4.0 in /usr/local/lib/python3.7/dist-packages (from nes-py>=8.0.0->gym-super-mario-bros==7.3.0) (1.5.0)\n",
            "Requirement already satisfied: gym>=0.17.2 in /usr/local/lib/python3.7/dist-packages (from nes-py>=8.0.0->gym-super-mario-bros==7.3.0) (0.17.3)\n",
            "Requirement already satisfied: tqdm>=4.48.2 in /usr/local/lib/python3.7/dist-packages (from nes-py>=8.0.0->gym-super-mario-bros==7.3.0) (4.64.0)\n",
            "Requirement already satisfied: numpy>=1.18.5 in /usr/local/lib/python3.7/dist-packages (from nes-py>=8.0.0->gym-super-mario-bros==7.3.0) (1.21.6)\n",
            "Requirement already satisfied: cloudpickle<1.7.0,>=1.2.0 in /usr/local/lib/python3.7/dist-packages (from gym>=0.17.2->nes-py>=8.0.0->gym-super-mario-bros==7.3.0) (1.3.0)\n",
            "Requirement already satisfied: scipy in /usr/local/lib/python3.7/dist-packages (from gym>=0.17.2->nes-py>=8.0.0->gym-super-mario-bros==7.3.0) (1.4.1)\n",
            "Requirement already satisfied: future in /usr/local/lib/python3.7/dist-packages (from pyglet<=1.5.21,>=1.4.0->nes-py>=8.0.0->gym-super-mario-bros==7.3.0) (0.16.0)\n"
          ]
        }
      ],
      "source": [
        "#Installing Mario gym\n",
        "!pip install gym-super-mario-bros==7.3.0\n",
        "import gym_super_mario_bros"
      ]
    },
    {
      "cell_type": "code",
      "execution_count": 4,
      "metadata": {
        "id": "mYIGc1hS6vXE"
      },
      "outputs": [],
      "source": [
        "import numpy as np\n",
        "import matplotlib.pyplot as plt\n",
        "import torch\n",
        "from torch import nn\n",
        "from torchvision import transforms as T\n",
        "\n",
        "from PIL import Image\n",
        "from pathlib import Path\n",
        "from collections import deque\n",
        "import random, time, datetime, os, copy\n",
        "\n",
        "import gym\n",
        "from gym.spaces import Box\n",
        "from gym.wrappers import FrameStack\n",
        "from nes_py.wrappers import JoypadSpace\n",
        "\n",
        "from IPython.display import clear_output"
      ]
    },
    {
      "cell_type": "code",
      "execution_count": 5,
      "metadata": {
        "colab": {
          "base_uri": "https://localhost:8080/"
        },
        "id": "U9ZFznO76vXG",
        "outputId": "ec92635c-65d3-49c8-ab0f-5c9467e2c130"
      },
      "outputs": [
        {
          "data": {
            "text/plain": [
              "array([[[104, 136, 252],\n",
              "        [104, 136, 252],\n",
              "        [104, 136, 252],\n",
              "        ...,\n",
              "        [104, 136, 252],\n",
              "        [104, 136, 252],\n",
              "        [104, 136, 252]],\n",
              "\n",
              "       [[104, 136, 252],\n",
              "        [104, 136, 252],\n",
              "        [104, 136, 252],\n",
              "        ...,\n",
              "        [104, 136, 252],\n",
              "        [104, 136, 252],\n",
              "        [104, 136, 252]],\n",
              "\n",
              "       [[104, 136, 252],\n",
              "        [104, 136, 252],\n",
              "        [104, 136, 252],\n",
              "        ...,\n",
              "        [104, 136, 252],\n",
              "        [104, 136, 252],\n",
              "        [104, 136, 252]],\n",
              "\n",
              "       ...,\n",
              "\n",
              "       [[240, 208, 176],\n",
              "        [228,  92,  16],\n",
              "        [228,  92,  16],\n",
              "        ...,\n",
              "        [228,  92,  16],\n",
              "        [228,  92,  16],\n",
              "        [  0,   0,   0]],\n",
              "\n",
              "       [[240, 208, 176],\n",
              "        [228,  92,  16],\n",
              "        [228,  92,  16],\n",
              "        ...,\n",
              "        [228,  92,  16],\n",
              "        [  0,   0,   0],\n",
              "        [  0,   0,   0]],\n",
              "\n",
              "       [[228,  92,  16],\n",
              "        [  0,   0,   0],\n",
              "        [  0,   0,   0],\n",
              "        ...,\n",
              "        [  0,   0,   0],\n",
              "        [  0,   0,   0],\n",
              "        [228,  92,  16]]], dtype=uint8)"
            ]
          },
          "execution_count": 5,
          "metadata": {},
          "output_type": "execute_result"
        }
      ],
      "source": [
        "# Setting Super Mario environment from the library\n",
        "env = gym_super_mario_bros.make(\"SuperMarioBros-1-1-v0\")\n",
        "env = JoypadSpace(env, [[\"right\"], [\"right\", \"A\"]])\n",
        "env.reset()"
      ]
    },
    {
      "cell_type": "code",
      "execution_count": 6,
      "metadata": {
        "colab": {
          "base_uri": "https://localhost:8080/",
          "height": 286
        },
        "id": "pXBQAQVW0bm5",
        "outputId": "10d82655-040b-4a78-a5cc-acb7e7ae15af"
      },
      "outputs": [
        {
          "data": {
            "image/png": "[encoded data removed]",
            "text/plain": [
              "<Figure size 432x288 with 1 Axes>"
            ]
          },
          "metadata": {
            "needs_background": "light"
          },
          "output_type": "display_data"
        },
        {
          "name": "stdout",
          "output_type": "stream",
          "text": [
            "0.0 False {'coins': 0, 'flag_get': False, 'life': 2, 'score': 0, 'stage': 1, 'status': 'small', 'time': 400, 'world': 1, 'x_pos': 40, 'x_pos_screen': 40, 'y_pos': 79}\n"
          ]
        }
      ],
      "source": [
        "obs, reward, done, details = env.step(action=0)\n",
        "plt.imshow(obs)\n",
        "plt.show()\n",
        "print(reward, done, details)"
      ]
    },
    {
      "cell_type": "markdown",
      "metadata": {
        "id": "aByESsWI6rrc"
      },
      "source": [
        "#Rendering Frames\n",
        "Converting env frames to grayscale and resizing it to (1, 84, 84) using wrappers.\n",
        "\n",
        "FrameStack Wrapper helps in combining frames."
      ]
    },
    {
      "cell_type": "code",
      "execution_count": 7,
      "metadata": {
        "id": "mjW9hvAWHr3c"
      },
      "outputs": [],
      "source": [
        "class SkipFrame(gym.Wrapper):\n",
        "    def __init__(self, env, skip):\n",
        "        super().__init__(env)\n",
        "        self._skip = skip\n",
        "\n",
        "    def step(self, action):\n",
        "        total = 0.0\n",
        "        done = False\n",
        "        for i in range(self._skip):\n",
        "            obs, reward, done, info = self.env.step(action)\n",
        "            total += reward\n",
        "            if done:\n",
        "                break\n",
        "        return obs, total, done, info\n",
        "\n",
        "\n",
        "class GrayScale(gym.ObservationWrapper):\n",
        "    def __init__(self, env):\n",
        "        super().__init__(env)\n",
        "        obs_shape = self.observation_space.shape[:2]\n",
        "        self.observation_space = Box(low=0, high=255, shape=obs_shape, dtype=np.uint8)\n",
        "\n",
        "    def permute_orientation(self, observation):\n",
        "        # permute [H, W, C] array to [C, H, W] tensor\n",
        "        observation = np.transpose(observation, (2, 0, 1))\n",
        "        observation = torch.tensor(observation.copy(), dtype=torch.float)\n",
        "        return observation\n",
        "\n",
        "    def observation(self, observation):\n",
        "        observation = self.permute_orientation(observation)\n",
        "        transform = T.Grayscale()\n",
        "        observation = transform(observation)\n",
        "        return observation\n",
        "\n",
        "\n",
        "class Resize(gym.ObservationWrapper):\n",
        "    def __init__(self, env, shape):\n",
        "        super().__init__(env)\n",
        "        if isinstance(shape, int):\n",
        "            self.shape = (shape, shape)\n",
        "        else:\n",
        "            self.shape = tuple(shape)\n",
        "\n",
        "        obs_shape = self.shape + self.observation_space.shape[2:]\n",
        "        self.observation_space = Box(low=0, high=255, shape=obs_shape, dtype=np.uint8)\n",
        "\n",
        "    def observation(self, observation):\n",
        "        transforms = T.Compose(\n",
        "            [T.Resize(self.shape), T.Normalize(0, 255)]\n",
        "        )\n",
        "        observation = transforms(observation).squeeze(0)\n",
        "        return observation\n",
        "\n",
        "# Apply Wrappers to environment\n",
        "env = SkipFrame(env, skip=4)\n",
        "env = GrayScale(env)\n",
        "env = Resize(env, shape=84)\n",
        "env = FrameStack(env, num_stack=4)"
      ]
    },
    {
      "cell_type": "markdown",
      "metadata": {
        "id": "JvatYr1WHr3f"
      },
      "source": [
        "MarioVLG\n",
        "--------------\n",
        "\n",
        "Using the `DDQN algorithm`.\n",
        "It uses two ConvNets - $Q_{Train}$ and\n",
        "$Q_{target}$.\n",
        "The features are shared across\n",
        "$Q_{Train}$ and $Q_{target}$, but separate FC\n",
        "classifiers are maintained. To achieve this, the parameters of\n",
        "$Q_{target}$ is frozen to prevent updation by backprop. And\n",
        "is periodically synced with the parameters of\n",
        "$Q_{Train}$"
      ]
    },
    {
      "cell_type": "code",
      "execution_count": 8,
      "metadata": {
        "id": "2KM-Ean_Hr3f"
      },
      "outputs": [],
      "source": [
        "class MarioVLG(nn.Module):\n",
        "    def __init__(self, input_dim, output_dim):\n",
        "        super().__init__()\n",
        "\n",
        "        self.Train = nn.Sequential(\n",
        "            nn.Conv2d(in_channels=input_dim[0], out_channels=32, kernel_size=8, stride=4),\n",
        "            nn.ReLU(),\n",
        "            nn.Conv2d(in_channels=32, out_channels=64, kernel_size=4, stride=2),\n",
        "            nn.ReLU(),\n",
        "            nn.Conv2d(in_channels=64, out_channels=64, kernel_size=3, stride=1),\n",
        "            nn.ReLU(),\n",
        "            nn.Flatten(),\n",
        "            nn.Linear(3136, 512),\n",
        "            nn.ReLU(),\n",
        "            nn.Linear(512, output_dim),\n",
        "        )\n",
        "\n",
        "        self.target = copy.deepcopy(self.Train)\n",
        "\n",
        "        # Q_target parameters are frozen.\n",
        "        for x in self.target.parameters():\n",
        "            x.requires_grad = False\n",
        "\n",
        "    def forward(self, input, model):\n",
        "        if model == \"Train\":\n",
        "            return self.Train(input)\n",
        "        elif model == \"target\":\n",
        "            return self.target(input)"
      ]
    },
    {
      "cell_type": "code",
      "execution_count": 9,
      "metadata": {
        "id": "_CmmePECHr3e"
      },
      "outputs": [],
      "source": [
        "# Complete body of Mario (includes what action to take, remember experiences, and updates Network)\n",
        "class Mario:\n",
        "    def __init__(self, state_dim, action_dim, save_dir):\n",
        "        self.state_dim = state_dim\n",
        "        self.action_dim = action_dim\n",
        "        self.save_dir = save_dir\n",
        "        self.use_cuda = torch.cuda.is_available()\n",
        "        self.net = MarioVLG(self.state_dim, self.action_dim).float()\n",
        "        if self.use_cuda:\n",
        "            self.net = self.net.to(device=\"cuda\")\n",
        "\n",
        "        self.exploration_rate = 1\n",
        "        self.exploration_rate_decay = 0.99999975\n",
        "        self.exploration_rate_min = 0.1\n",
        "        self.curr_step = 0\n",
        "\n",
        "        self.save_every = 1e5\n",
        "        \n",
        "        self.memory = deque(maxlen=100000)\n",
        "        self.batch_size = 32\n",
        "        self.gamma = 0.9\n",
        "        self.optimizer = torch.optim.Adam(self.net.parameters(), lr=0.00025)\n",
        "        self.loss_fn = torch.nn.SmoothL1Loss()\n",
        "        self.burnin = 5000  # min. experiences before training\n",
        "        self.learn_every = 3  # no. of experiences between updates to Q_Train\n",
        "        self.sync_every = 5000  # no. of experiences between Q_target & Q_Train sync\n",
        "\n",
        "\n",
        "    def act(self, state):\n",
        "        if np.random.rand() < self.exploration_rate:\n",
        "            action = np.random.randint(self.action_dim)\n",
        "        else:\n",
        "            state = state.__array__()\n",
        "            if self.use_cuda:\n",
        "                state = torch.tensor(state).cuda()\n",
        "            else:\n",
        "                state = torch.tensor(state)\n",
        "            state = state.unsqueeze(0)\n",
        "            action_values = self.net(state, model=\"Train\")\n",
        "            action = torch.argmax(action_values, axis=1).item()\n",
        "\n",
        "        self.exploration_rate *= self.exploration_rate_decay\n",
        "        self.exploration_rate = max(self.exploration_rate_min, self.exploration_rate)\n",
        "        self.curr_step += 1\n",
        "        return action\n",
        "        \n",
        "    def cache(self, state, next_state, action, reward, done):\n",
        "        state = state.__array__()\n",
        "        next_state = next_state.__array__()\n",
        "\n",
        "        if self.use_cuda:\n",
        "            state = torch.tensor(state).cuda()\n",
        "            next_state = torch.tensor(next_state).cuda()\n",
        "            action = torch.tensor([action]).cuda()\n",
        "            reward = torch.tensor([reward]).cuda()\n",
        "            done = torch.tensor([done]).cuda()\n",
        "        else:\n",
        "            state = torch.tensor(state)\n",
        "            next_state = torch.tensor(next_state)\n",
        "            action = torch.tensor([action])\n",
        "            reward = torch.tensor([reward])\n",
        "            done = torch.tensor([done])\n",
        "\n",
        "        self.memory.append((state, next_state, action, reward, done,))\n",
        "\n",
        "    def recall(self):\n",
        "        batch = random.sample(self.memory, self.batch_size)\n",
        "        state, next_state, action, reward, done = map(torch.stack, zip(*batch))\n",
        "        return state, next_state, action.squeeze(), reward.squeeze(), done.squeeze()\n",
        "\n",
        "        \n",
        "    def td_estimate(self, state, action):\n",
        "        current_Q = self.net(state, model=\"Train\")[\n",
        "            np.arange(0, self.batch_size), action\n",
        "        ]\n",
        "        return current_Q\n",
        "\n",
        "    @torch.no_grad()\n",
        "    def td_target(self, reward, next_state, done):\n",
        "        next_state_Q = self.net(next_state, model=\"Train\")\n",
        "        best_action = torch.argmax(next_state_Q, axis=1)\n",
        "        next_Q = self.net(next_state, model=\"target\")[\n",
        "            np.arange(0, self.batch_size), best_action\n",
        "        ]\n",
        "        return (reward + (1 - done.float()) * self.gamma * next_Q).float()\n",
        "        \n",
        "\n",
        "    def update_Q_Train(self, td_estimate, td_target):\n",
        "        loss = self.loss_fn(td_estimate, td_target)\n",
        "        self.optimizer.zero_grad()\n",
        "        loss.backward()\n",
        "        self.optimizer.step()\n",
        "        return loss.item()\n",
        "\n",
        "    def sync_Q_target(self):\n",
        "        self.net.target.load_state_dict(self.net.Train.state_dict())\n",
        "        \n",
        "    def save(self):\n",
        "        save_path = (\n",
        "            self.save_dir / f\"mario_{int(self.curr_step // self.save_every)}.chkpt\"\n",
        "        )\n",
        "        torch.save(\n",
        "            dict(model=self.net.state_dict(), exploration_rate=self.exploration_rate),\n",
        "            save_path,\n",
        "        )\n",
        "\n",
        "    def learn(self):\n",
        "        if self.curr_step % self.sync_every == 0:\n",
        "            self.sync_Q_target()\n",
        "        if self.curr_step % self.save_every == 0:\n",
        "            self.save()\n",
        "        if self.curr_step < self.burnin:\n",
        "            return None, None\n",
        "        if self.curr_step % self.learn_every != 0:\n",
        "            return None, None\n",
        "        state, next_state, action, reward, done = self.recall()\n",
        "        td_est = self.td_estimate(state, action)\n",
        "        td_tgt = self.td_target(reward, next_state, done)\n",
        "        loss = self.update_Q_Train(td_est, td_tgt)\n",
        "\n",
        "        return (td_est.mean().item(), loss)"
      ]
    },
    {
      "cell_type": "markdown",
      "metadata": {
        "id": "XdLTG5z2pT9B"
      },
      "source": [
        "Training\n",
        "--------------"
      ]
    },
    {
      "cell_type": "code",
      "execution_count": 10,
      "metadata": {
        "colab": {
          "base_uri": "https://localhost:8080/",
          "height": 659
        },
        "id": "BOl33emeHr3h",
        "outputId": "870d918f-a35f-4cda-9cd8-f6b3eed947d9"
      },
      "outputs": [
        {
          "data": {
            "image/png": "[encoded data removed]",
            "text/plain": [
              "<Figure size 432x288 with 1 Axes>"
            ]
          },
          "metadata": {
            "needs_background": "light"
          },
          "output_type": "display_data"
        }
      ],
      "source": [
        "save_dir = Path(\"checkpoints\") / datetime.datetime.now().strftime(\"%Y-%m-%dT%H-%M-%S\")\n",
        "save_dir.mkdir(parents=True)\n",
        "\n",
        "mario = Mario(state_dim=(4, 84, 84), action_dim=env.action_space.n, save_dir=save_dir)\n",
        "\n",
        "episodes = 300\n",
        "ep = []\n",
        "scores = []\n",
        "for e in range(episodes):\n",
        "    tot_reward = 0\n",
        "    score = 0\n",
        "\n",
        "    state = env.reset()\n",
        "    while True:\n",
        "        action = mario.act(state)\n",
        "        obs, reward, done, info = env.step(action)\n",
        "        #plt.imshow(obs[3])\n",
        "        #plt.show()\n",
        "        mario.cache(state, obs, action, reward, done)\n",
        "        q, loss = mario.learn()\n",
        "        state = obs\n",
        "        score=info[\"score\"]\n",
        "        if done or info[\"flag_get\"]:\n",
        "            break\n",
        "    ep.append(e)\n",
        "    scores.append(score)\n",
        "    clear_output(wait=True)\n",
        "    plt.xlabel(\"Episode\")\n",
        "    plt.ylabel(\"Scores\")\n",
        "    plt.plot(ep, scores, color = \"orange\")\n",
        "    plt.grid()\n",
        "    plt.show()"
      ]
    },
    {
      "cell_type": "markdown",
      "metadata": {},
      "source": [
        "With number of episodes the peak scores have begun to rise. But for good results large number of games have to be played."
      ]
    },
    {
      "cell_type": "markdown",
      "metadata": {},
      "source": []
    }
  ],
  "metadata": {
    "accelerator": "GPU",
    "colab": {
      "collapsed_sections": [],
      "name": "Mario_VLG.ipynb",
      "provenance": []
    },
    "gpuClass": "standard",
    "kernelspec": {
      "display_name": "Python 3",
      "language": "python",
      "name": "python3"
    },
    "language_info": {
      "codemirror_mode": {
        "name": "ipython",
        "version": 3
      },
      "file_extension": ".py",
      "mimetype": "text/x-python",
      "name": "python",
      "nbconvert_exporter": "python",
      "pygments_lexer": "ipython3",
      "version": "3.7.13"
    }
  },
  "nbformat": 4,
  "nbformat_minor": 0
}